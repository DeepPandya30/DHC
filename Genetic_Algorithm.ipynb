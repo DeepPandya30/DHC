{
  "nbformat": 4,
  "nbformat_minor": 0,
  "metadata": {
    "colab": {
      "provenance": [],
      "authorship_tag": "ABX9TyPEaiu8EDKEZD4rEA8rYhV7",
      "include_colab_link": true
    },
    "kernelspec": {
      "name": "python3",
      "display_name": "Python 3"
    },
    "language_info": {
      "name": "python"
    }
  },
  "cells": [
    {
      "cell_type": "markdown",
      "metadata": {
        "id": "view-in-github",
        "colab_type": "text"
      },
      "source": [
        "<a href=\"https://colab.research.google.com/github/DeepPandya30/DHC/blob/main/Genetic_Algorithm.ipynb\" target=\"_parent\"><img src=\"https://colab.research.google.com/assets/colab-badge.svg\" alt=\"Open In Colab\"/></a>"
      ]
    },
    {
      "cell_type": "code",
      "execution_count": null,
      "metadata": {
        "colab": {
          "base_uri": "https://localhost:8080/",
          "height": 696
        },
        "id": "qlM40ozW5Ot7",
        "outputId": "cb21f438-74bb-45ae-8950-23ef5cd25ec1"
      },
      "outputs": [
        {
          "output_type": "stream",
          "name": "stdout",
          "text": [
            "Generation 1: Best Path = [(0, 0), (1, 1), (1, 2), (2, 3), (2, 4), (3, 5), (4, 5), (5, 5)], Length = 8\n",
            "Generation 2: Best Path = [(0, 0), (1, 1), (1, 2), (2, 3), (2, 4), (3, 5), (4, 5), (5, 5)], Length = 8\n",
            "Generation 3: Best Path = [(0, 0), (1, 1), (1, 2), (2, 3), (2, 4), (3, 5), (4, 5), (5, 5)], Length = 8\n",
            "Generation 4: Best Path = [(0, 0), (1, 1), (1, 2), (2, 3), (2, 4), (3, 5), (4, 5), (5, 5)], Length = 8\n",
            "Generation 5: Best Path = [(0, 0), (1, 1), (1, 2), (2, 3), (2, 4), (3, 5), (4, 5), (5, 5)], Length = 8\n",
            "Generation 6: Best Path = [(0, 0), (1, 1), (1, 2), (2, 3), (2, 4), (3, 5), (4, 5), (5, 5)], Length = 8\n",
            "Generation 7: Best Path = [(0, 0), (1, 1), (1, 2), (2, 3), (2, 4), (3, 5), (4, 5), (5, 5)], Length = 8\n",
            "Generation 8: Best Path = [(0, 0), (1, 1), (1, 2), (2, 3), (2, 4), (3, 5), (4, 5), (5, 5)], Length = 8\n",
            "Generation 9: Best Path = [(0, 0), (1, 1), (1, 2), (2, 3), (2, 4), (3, 5), (4, 5), (5, 5)], Length = 8\n",
            "Generation 10: Best Path = [(0, 0), (1, 1), (1, 2), (2, 3), (2, 4), (3, 5), (4, 5), (5, 5)], Length = 8\n"
          ]
        },
        {
          "output_type": "display_data",
          "data": {
            "text/plain": [
              "<Figure size 600x600 with 1 Axes>"
            ],
            "image/png": "[encoded data removed]"
          },
          "metadata": {}
        }
      ],
      "source": [
        "import random\n",
        "import numpy as np\n",
        "import matplotlib.pyplot as plt\n",
        "\n",
        "# Define Grid Environment\n",
        "GRID_SIZE = 6  # 6x6 Grid\n",
        "START = (0, 0)\n",
        "GOAL = (5, 5)\n",
        "OBSTACLES = {(2, 2), (3, 3), (1, 4)}  # Set of obstacle coordinates\n",
        "\n",
        "# Generate Random Paths\n",
        "def generate_population(size):\n",
        "    population = []\n",
        "    for _ in range(size):\n",
        "        path = [START]\n",
        "        while path[-1] != GOAL:\n",
        "            x, y = path[-1]\n",
        "            next_moves = [(x+1, y), (x, y+1), (x+1, y+1)]\n",
        "            next_moves = [(nx, ny) for nx, ny in next_moves if 0 <= nx < GRID_SIZE and 0 <= ny < GRID_SIZE and (nx, ny) not in OBSTACLES]\n",
        "            if not next_moves:\n",
        "                break  # Dead end\n",
        "            path.append(random.choice(next_moves))\n",
        "        population.append(path)\n",
        "    return population\n",
        "\n",
        "# Fitness Function: Shorter paths & avoiding obstacles\n",
        "def fitness_function(path):\n",
        "    return -len(path) if path[-1] == GOAL else -999  # Penalize incomplete paths\n",
        "\n",
        "# Selection: Roulette Wheel with Fallback\n",
        "def selection(population):\n",
        "    fitness_scores = [fitness_function(p) for p in population]\n",
        "\n",
        "    # Ensure all paths have valid fitness values\n",
        "    min_fitness = min(fitness_scores)\n",
        "\n",
        "    # Shift scores to avoid zero or negative total fitness\n",
        "    adjusted_fitness_scores = [f - min_fitness + 1 for f in fitness_scores]  # Ensures all values are positive\n",
        "    total_fitness = sum(adjusted_fitness_scores)\n",
        "\n",
        "    # If all paths have the same fitness (total_fitness == 0), pick randomly\n",
        "    if total_fitness == 0:\n",
        "        return random.sample(population, 2)\n",
        "\n",
        "    probabilities = [f / total_fitness for f in adjusted_fitness_scores]\n",
        "    return random.choices(population, probabilities, k=2)\n",
        "\n",
        "# Crossover: Combine two paths at a random point\n",
        "def crossover(parent1, parent2):\n",
        "    cut = random.randint(1, min(len(parent1), len(parent2)) - 1)\n",
        "    child1 = parent1[:cut] + parent2[cut:]\n",
        "    child2 = parent2[:cut] + parent1[cut:]\n",
        "    return child1, child2\n",
        "\n",
        "# Mutation: Randomly alter a point in the path\n",
        "def mutate(path):\n",
        "    if random.random() < 0.3:\n",
        "        idx = random.randint(1, len(path) - 2)\n",
        "        x, y = path[idx]\n",
        "        next_moves = [(x+1, y), (x, y+1), (x-1, y), (x, y-1)]\n",
        "        next_moves = [(nx, ny) for nx, ny in next_moves if 0 <= nx < GRID_SIZE and 0 <= ny < GRID_SIZE and (nx, ny) not in OBSTACLES]\n",
        "        if next_moves:\n",
        "            path[idx] = random.choice(next_moves)\n",
        "    return path\n",
        "\n",
        "# Elitism: Keep the best path\n",
        "def elitism(population):\n",
        "    return max(population, key=fitness_function)\n",
        "\n",
        "# Plot the Path\n",
        "def plot_path(best_path):\n",
        "    grid = np.zeros((GRID_SIZE, GRID_SIZE))\n",
        "    for ox, oy in OBSTACLES:\n",
        "        grid[ox, oy] = -1  # Mark obstacles\n",
        "\n",
        "    path_x, path_y = zip(*best_path)\n",
        "    plt.figure(figsize=(6,6))\n",
        "    plt.imshow(grid, cmap='gray_r', origin='lower')\n",
        "    plt.plot(path_y, path_x, marker='o', color='b', label='Best Path')\n",
        "    plt.scatter(START[1], START[0], color='g', marker='s', s=100, label='Start')\n",
        "    plt.scatter(GOAL[1], GOAL[0], color='r', marker='s', s=100, label='Goal')\n",
        "    plt.legend()\n",
        "    plt.grid(True)\n",
        "    plt.xticks(range(GRID_SIZE))\n",
        "    plt.yticks(range(GRID_SIZE))\n",
        "    plt.show()\n",
        "\n",
        "# Run the Improved Genetic Algorithm\n",
        "def improved_genetic_algorithm(generations=10, pop_size=5):\n",
        "    population = generate_population(pop_size)\n",
        "    for gen in range(generations):\n",
        "        new_population = [elitism(population)]\n",
        "        while len(new_population) < pop_size:\n",
        "            p1, p2 = selection(population)\n",
        "            c1, c2 = crossover(p1, p2)\n",
        "            new_population.extend([mutate(c1), mutate(c2)])\n",
        "        population = new_population[:pop_size]\n",
        "        best = elitism(population)\n",
        "        print(f\"Generation {gen+1}: Best Path = {best}, Length = {len(best)}\")\n",
        "    plot_path(best)\n",
        "\n",
        "# Run the IGA for Path Planning\n",
        "improved_genetic_algorithm()\n"
      ]
    },
    {
      "cell_type": "code",
      "source": [],
      "metadata": {
        "id": "xqUx8id25S7v"
      },
      "execution_count": null,
      "outputs": []
    }
  ]
}